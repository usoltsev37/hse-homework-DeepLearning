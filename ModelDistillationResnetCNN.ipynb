{
  "nbformat": 4,
  "nbformat_minor": 0,
  "metadata": {
    "colab": {
      "name": "ModelDistillationResnetCNN.ipynb",
      "provenance": []
    },
    "kernelspec": {
      "name": "python3",
      "display_name": "Python 3"
    },
    "language_info": {
      "name": "python"
    },
    "accelerator": "GPU"
  },
  "cells": [
    {
      "cell_type": "code",
      "execution_count": null,
      "metadata": {
        "id": "9OBDoypYVXk3",
        "colab": {
          "base_uri": "https://localhost:8080/"
        },
        "outputId": "6386a054-8af6-4b2f-be47-ddedbfae02af"
      },
      "outputs": [
        {
          "output_type": "stream",
          "name": "stdout",
          "text": [
            "Looking in indexes: https://pypi.org/simple, https://us-python.pkg.dev/colab-wheels/public/simple/\n",
            "Requirement already satisfied: transformers in /usr/local/lib/python3.7/dist-packages (4.19.2)\n",
            "Requirement already satisfied: requests in /usr/local/lib/python3.7/dist-packages (from transformers) (2.23.0)\n",
            "Requirement already satisfied: regex!=2019.12.17 in /usr/local/lib/python3.7/dist-packages (from transformers) (2019.12.20)\n",
            "Requirement already satisfied: filelock in /usr/local/lib/python3.7/dist-packages (from transformers) (3.7.0)\n",
            "Requirement already satisfied: numpy>=1.17 in /usr/local/lib/python3.7/dist-packages (from transformers) (1.21.6)\n",
            "Requirement already satisfied: tokenizers!=0.11.3,<0.13,>=0.11.1 in /usr/local/lib/python3.7/dist-packages (from transformers) (0.12.1)\n",
            "Requirement already satisfied: huggingface-hub<1.0,>=0.1.0 in /usr/local/lib/python3.7/dist-packages (from transformers) (0.7.0)\n",
            "Requirement already satisfied: tqdm>=4.27 in /usr/local/lib/python3.7/dist-packages (from transformers) (4.64.0)\n",
            "Requirement already satisfied: pyyaml>=5.1 in /usr/local/lib/python3.7/dist-packages (from transformers) (6.0)\n",
            "Requirement already satisfied: importlib-metadata in /usr/local/lib/python3.7/dist-packages (from transformers) (4.11.3)\n",
            "Requirement already satisfied: packaging>=20.0 in /usr/local/lib/python3.7/dist-packages (from transformers) (21.3)\n",
            "Requirement already satisfied: typing-extensions>=3.7.4.3 in /usr/local/lib/python3.7/dist-packages (from huggingface-hub<1.0,>=0.1.0->transformers) (4.2.0)\n",
            "Requirement already satisfied: pyparsing!=3.0.5,>=2.0.2 in /usr/local/lib/python3.7/dist-packages (from packaging>=20.0->transformers) (3.0.9)\n",
            "Requirement already satisfied: zipp>=0.5 in /usr/local/lib/python3.7/dist-packages (from importlib-metadata->transformers) (3.8.0)\n",
            "Requirement already satisfied: chardet<4,>=3.0.2 in /usr/local/lib/python3.7/dist-packages (from requests->transformers) (3.0.4)\n",
            "Requirement already satisfied: certifi>=2017.4.17 in /usr/local/lib/python3.7/dist-packages (from requests->transformers) (2022.5.18.1)\n",
            "Requirement already satisfied: idna<3,>=2.5 in /usr/local/lib/python3.7/dist-packages (from requests->transformers) (2.10)\n",
            "Requirement already satisfied: urllib3!=1.25.0,!=1.25.1,<1.26,>=1.21.1 in /usr/local/lib/python3.7/dist-packages (from requests->transformers) (1.24.3)\n"
          ]
        }
      ],
      "source": [
        "!pip install transformers"
      ]
    },
    {
      "cell_type": "code",
      "source": [
        "import pandas as pd\n",
        "from transformers import BertTokenizer\n",
        "import numpy as np\n",
        "import torch\n",
        "import torch.nn as nn\n",
        "import torch.nn.functional as F\n",
        "import torch.optim as optim\n",
        "from torch.utils.data import DataLoader\n",
        "from torch.optim.lr_scheduler import StepLR\n",
        "from torch.autograd import Variable\n",
        "from torchvision import datasets, transforms\n",
        "from torch.utils.data.sampler import SubsetRandomSampler\n",
        "from sklearn.metrics import precision_score, recall_score, f1_score\n",
        "from tqdm import tqdm\n",
        "import os\n",
        "import time\n",
        "import math\n",
        "import random\n",
        "import matplotlib.pyplot as plt\n"
      ],
      "metadata": {
        "id": "38mblH7bbqhV"
      },
      "execution_count": null,
      "outputs": []
    },
    {
      "cell_type": "code",
      "source": [
        "from traitlets.traitlets import validate\n",
        "device = torch.device(\"cuda\" if torch.cuda.is_available() else \"cpu\")\n",
        "\n",
        "t = transforms.ToTensor()\n",
        "\n",
        "cifar_train = datasets.CIFAR10(\"datasets/cifar10\", download=True, train=True, transform=t)\n",
        "train_loader = DataLoader(cifar_train, batch_size=512, shuffle=True, pin_memory=torch.cuda.is_available())\n",
        "cifar_test = datasets.CIFAR10(\"datasets/cifar10\", download=True, train=False, transform=t)\n",
        "test_loader = DataLoader(cifar_test, batch_size=512, shuffle=False, pin_memory=torch.cuda.is_available())"
      ],
      "metadata": {
        "colab": {
          "base_uri": "https://localhost:8080/"
        },
        "id": "Nl9V2uQFSYVj",
        "outputId": "98d15c6b-e350-41a1-be56-86681a8481e1"
      },
      "execution_count": null,
      "outputs": [
        {
          "output_type": "stream",
          "name": "stdout",
          "text": [
            "Files already downloaded and verified\n",
            "Files already downloaded and verified\n"
          ]
        }
      ]
    },
    {
      "cell_type": "code",
      "source": [
        "def show_plot(train_l, test_l, title):\n",
        "    plt.figure(figsize=(12, 6))\n",
        "    plt.title(title)\n",
        "    plt.plot(range(len(train_l)), train_l, label=\"train\")\n",
        "    plt.plot(range(len(test_l)), test_l, label=\"test\")\n",
        "    plt.xlabel(\"Epoch\")\n",
        "    plt.ylabel(\"Loss\")\n",
        "    plt.legend()\n",
        "    plt.tight_layout()\n",
        "    plt.show()"
      ],
      "metadata": {
        "id": "FJCTQqvsRPKP"
      },
      "execution_count": null,
      "outputs": []
    },
    {
      "cell_type": "code",
      "source": [
        "def calc_loss(outputs, labels):\n",
        "    return nn.CrossEntropyLoss()(outputs, labels)"
      ],
      "metadata": {
        "id": "9N8nu0agC3Gq"
      },
      "execution_count": null,
      "outputs": []
    },
    {
      "cell_type": "code",
      "source": [
        "def calc_metrics(model):\n",
        "    y_ = np.array([])\n",
        "    y_model_ = np.array([])\n",
        "    for X, y in iter(test_loader):        \n",
        "        y_model = model(X.to(device)).max(dim=1)[1]\n",
        "        y_ = np.concatenate((y_, y.data))\n",
        "        y_model_ = np.concatenate((y_model_, y_model.data.cpu()))\n",
        "    print(f'Precision score: {precision_score(y_, y_model_,average=\"macro\")}')\n",
        "    print(f'Recall score: {recall_score(y_, y_model_, average=\"macro\")}')\n",
        "    print(f'F1 score: {f1_score(y_, y_model_, average=\"macro\")}')"
      ],
      "metadata": {
        "id": "5v68UU60myRC"
      },
      "execution_count": null,
      "outputs": []
    },
    {
      "cell_type": "code",
      "source": [
        "class CNN(nn.Module):\n",
        "    def __init__(self, channels_cnt):\n",
        "        super(CNN, self).__init__()\n",
        "        self.channels_cnt = channels_cnt\n",
        "        self.conv1 = nn.Conv2d(3, self.channels_cnt, 3, stride=1, padding=1)\n",
        "        self.bn1 = nn.BatchNorm2d(self.channels_cnt)\n",
        "        self.conv2 = nn.Conv2d(self.channels_cnt, self.channels_cnt*2, 3, stride=1, padding=1)\n",
        "        self.bn2 = nn.BatchNorm2d(self.channels_cnt*2)\n",
        "        self.conv3 = nn.Conv2d(self.channels_cnt*2, self.channels_cnt*4, 3, stride=1, padding=1)\n",
        "        self.bn3 = nn.BatchNorm2d(self.channels_cnt*4)\n",
        "        self.linear1 = nn.Linear(4*4*self.channels_cnt*4, self.channels_cnt*4)\n",
        "        self.bn4 = nn.BatchNorm1d(self.channels_cnt*4)\n",
        "        self.linear2 = nn.Linear(self.channels_cnt*4, 10)       \n",
        "\n",
        "    def forward(self, x):\n",
        "        x = self.bn1(self.conv1(x))                    # batch_sz x channels_cnt x 32 x 32\n",
        "        x = F.relu(F.max_pool2d(x, 2))                 # batch_sz x channels_cnt x 16 x 16\n",
        "        x = self.bn2(self.conv2(x))                    # batch_sz x channels_cnt*2 x 16 x 16\n",
        "        x = F.relu(F.max_pool2d(x, 2))                 # batch_sz x channels_cnt*2 x 8 x 8\n",
        "        x = self.bn3(self.conv3(x))                    # batch_sz x channels_cnt*3 x 8 x 8\n",
        "        x = F.relu(F.max_pool2d(x, 2))                 # batch_sz x channels_cnt*4 x 4 x 4\n",
        "        x = x.view(-1, self.channels_cnt*4*4*4)        # batch_sz x channels_cnt*4*4*4\n",
        "        x = F.relu(self.bn4(self.linear1(x)))          # batch_sz x channels_cnt4\n",
        "        x = self.linear2(x)                            # batch_sz x 10\n",
        "        return x\n",
        "    "
      ],
      "metadata": {
        "id": "E8sv7SPR6OiG"
      },
      "execution_count": null,
      "outputs": []
    },
    {
      "cell_type": "code",
      "source": [
        "def train(model, epochs=40):\n",
        "    optimizer = torch.optim.Adam(model.parameters())\n",
        "    train_losses = []\n",
        "    test_losses = []\n",
        "    for i in range(epochs):\n",
        "        #Train\n",
        "        loss_mean = 0\n",
        "        elements = 0\n",
        "        for X, y in iter(train_loader):\n",
        "            X = X.to(device)\n",
        "            y = y.to(device)\n",
        "            loss = calc_loss(model(X), y)\n",
        "            optimizer.zero_grad()\n",
        "            loss.backward()\n",
        "            optimizer.step()\n",
        "            loss_mean += loss.item() * len(X)\n",
        "            elements += len(X)\n",
        "        train_losses.append(loss_mean / elements)\n",
        "        #Test\n",
        "        loss_mean = 0 \n",
        "        elements = 0\n",
        "        for X, y in iter(test_loader):\n",
        "            X = X.to(device)\n",
        "            y = y.to(device)\n",
        "            loss = calc_loss(model(X), y)\n",
        "            loss_mean += loss.item() * len(X)\n",
        "            elements += len(X)\n",
        "        test_losses.append(loss_mean / elements)\n",
        "        print(\"Epoch\", i, \"| Train loss\", train_losses[-1], \"| Test loss\", test_losses[-1])\n",
        "    return train_losses, test_losses"
      ],
      "metadata": {
        "id": "S9QhXVouJekv"
      },
      "execution_count": null,
      "outputs": []
    },
    {
      "cell_type": "code",
      "source": [
        "model_cnn_base = CNN(32).to(device)\n",
        "train_l, test_l = train(model_cnn_base,epochs=5)"
      ],
      "metadata": {
        "colab": {
          "base_uri": "https://localhost:8080/"
        },
        "id": "HoXRDcmIPQuT",
        "outputId": "a17576fc-ba8c-4227-9a71-920e705404d2"
      },
      "execution_count": null,
      "outputs": [
        {
          "output_type": "stream",
          "name": "stdout",
          "text": [
            "Epoch 0 | Train loss 1.252249250946045 | Test loss 0.956107089805603\n",
            "Epoch 1 | Train loss 0.8270830268096924 | Test loss 0.825495337677002\n",
            "Epoch 2 | Train loss 0.658554509601593 | Test loss 0.7502914518356323\n",
            "Epoch 3 | Train loss 0.5332466827964782 | Test loss 0.7153903223991394\n",
            "Epoch 4 | Train loss 0.43636679177284243 | Test loss 0.7185668144226074\n"
          ]
        }
      ]
    },
    {
      "cell_type": "code",
      "source": [
        "show_plot(train_l, test_l, \"CNN without ResNet\")"
      ],
      "metadata": {
        "colab": {
          "base_uri": "https://localhost:8080/",
          "height": 441
        },
        "id": "W3GWtU7SR2f-",
        "outputId": "b1524d05-2a9e-4725-b0f1-15104f7152b1"
      },
      "execution_count": null,
      "outputs": [
        {
          "output_type": "display_data",
          "data": {
            "text/plain": [
              "<Figure size 864x432 with 1 Axes>"
            ],
            "image/png": "[encoded data removed]"
          },
          "metadata": {
            "needs_background": "light"
          }
        }
      ]
    },
    {
      "cell_type": "code",
      "source": [
        "calc_metrics(model_cnn_base)"
      ],
      "metadata": {
        "colab": {
          "base_uri": "https://localhost:8080/"
        },
        "id": "3FBNxOj3YPGG",
        "outputId": "266bd607-c5e1-4a8c-dcb3-3430f5772f38"
      },
      "execution_count": null,
      "outputs": [
        {
          "output_type": "stream",
          "name": "stdout",
          "text": [
            "Precision score: 0.7542932210825405\n",
            "Recall score: 0.7545\n",
            "F1 score: 0.753942141638697\n"
          ]
        }
      ]
    },
    {
      "cell_type": "code",
      "source": [
        "# pretrained model from https://github.com/chenyaofo/pytorch-cifar-models\n",
        "model_resnet_pretrained = torch.hub.load(\"chenyaofo/pytorch-cifar-models\", \"cifar10_resnet20\", pretrained=True)"
      ],
      "metadata": {
        "colab": {
          "base_uri": "https://localhost:8080/"
        },
        "id": "J912Pmd3SU1v",
        "outputId": "8d0c95cf-0034-45a6-b17a-2fb35afc2ffa"
      },
      "execution_count": null,
      "outputs": [
        {
          "output_type": "stream",
          "name": "stderr",
          "text": [
            "Using cache found in /root/.cache/torch/hub/chenyaofo_pytorch-cifar-models_master\n"
          ]
        }
      ]
    },
    {
      "cell_type": "code",
      "source": [
        "model_resnet_pretrained = model_resnet_pretrained.to(device)"
      ],
      "metadata": {
        "id": "529_EaeWdTZY"
      },
      "execution_count": null,
      "outputs": []
    },
    {
      "cell_type": "code",
      "source": [
        "def calc_loss_kndist(outputs, outputs_teacher, labels, a=0.5):\n",
        "    # fst = a * nn.CrossEntropyLoss()(outputs, labels)\n",
        "    # snd = (1 - a) * nn.MSELoss()(torch.argmax(outputs_teacher, 1).values, labels)\n",
        "    return nn.KLDivLoss()(F.log_softmax(outputs, dim=1),\n",
        "                             F.softmax(outputs_teacher, dim=1)) * a + F.cross_entropy(outputs, labels) * (1. - a)"
      ],
      "metadata": {
        "id": "ZpG3qNY0UeZ1"
      },
      "execution_count": null,
      "outputs": []
    },
    {
      "cell_type": "code",
      "source": [
        "def train(model, epochs=40, a_kd=0.5):\n",
        "    optimizer = torch.optim.Adam(model.parameters())\n",
        "    train_losses = []\n",
        "    test_losses = []\n",
        "    for i in range(epochs):\n",
        "        #Train\n",
        "        loss_mean = 0\n",
        "        elements = 0\n",
        "        for X, y in iter(train_loader):\n",
        "            X = X.to(device)\n",
        "            y = y.to(device)\n",
        "            loss = calc_loss_kndist(model(X), model_resnet_pretrained(X), y, a_kd)\n",
        "            optimizer.zero_grad()\n",
        "            loss.backward()\n",
        "            optimizer.step()\n",
        "            loss_mean += loss.item() * len(X)\n",
        "            elements += len(X)\n",
        "        train_losses.append(loss_mean / elements)\n",
        "        #Test\n",
        "        loss_mean = 0 \n",
        "        elements = 0\n",
        "        for X, y in iter(test_loader):\n",
        "            X = X.to(device)\n",
        "            y = y.to(device)\n",
        "            loss = calc_loss_kndist(model(X), model_resnet_pretrained(X), y, a_kd)\n",
        "            loss_mean += loss.item() * len(X)\n",
        "            elements += len(X)\n",
        "        test_losses.append(loss_mean / elements)\n",
        "        print(\"Epoch\", i, \"| Train loss\", train_losses[-1], \"| Test loss\", test_losses[-1])\n",
        "    return train_losses, test_losses"
      ],
      "metadata": {
        "id": "3WPvD0c1T4yL"
      },
      "execution_count": null,
      "outputs": []
    },
    {
      "cell_type": "code",
      "source": [
        "model_cnn_distillated = CNN(32).to(device)\n",
        "train_l, test_l = train(model_cnn_distillated, epochs=5, a_kd=0.5)"
      ],
      "metadata": {
        "colab": {
          "base_uri": "https://localhost:8080/"
        },
        "id": "ip965eYQcgwr",
        "outputId": "94cfac06-5346-4c7f-88b4-d720c0878446"
      },
      "execution_count": null,
      "outputs": [
        {
          "output_type": "stream",
          "name": "stderr",
          "text": [
            "/usr/local/lib/python3.7/dist-packages/torch/nn/functional.py:2887: UserWarning: reduction: 'mean' divides the total loss by both the batch size and the support size.'batchmean' divides only by the batch size, and aligns with the KL div math definition.'mean' will be changed to behave the same as 'batchmean' in the next major release.\n",
            "  \"reduction: 'mean' divides the total loss by both the batch size and the support size.\"\n"
          ]
        },
        {
          "output_type": "stream",
          "name": "stdout",
          "text": [
            "Epoch 0 | Train loss 0.6645324537277222 | Test loss 0.508974287033081\n",
            "Epoch 1 | Train loss 0.4454170866584778 | Test loss 0.44666361875534055\n",
            "Epoch 2 | Train loss 0.3559934286785126 | Test loss 0.398869940328598\n",
            "Epoch 3 | Train loss 0.29271134717941283 | Test loss 0.39442376699447634\n",
            "Epoch 4 | Train loss 0.23994007732391356 | Test loss 0.38914213824272154\n"
          ]
        }
      ]
    },
    {
      "cell_type": "code",
      "source": [
        "show_plot(train_l, test_l, \"CNN with ResNet with a = 0.5\")"
      ],
      "metadata": {
        "colab": {
          "base_uri": "https://localhost:8080/",
          "height": 441
        },
        "id": "snD93Ls3cg8O",
        "outputId": "9985346e-4b1b-4f57-bfd1-38907b1d7d0d"
      },
      "execution_count": null,
      "outputs": [
        {
          "output_type": "display_data",
          "data": {
            "text/plain": [
              "<Figure size 864x432 with 1 Axes>"
            ],
            "image/png": "[encoded data removed]"
          },
          "metadata": {
            "needs_background": "light"
          }
        }
      ]
    },
    {
      "cell_type": "code",
      "source": [
        "calc_metrics(model_cnn_distillated)"
      ],
      "metadata": {
        "colab": {
          "base_uri": "https://localhost:8080/"
        },
        "id": "Nlmbop4KchLy",
        "outputId": "83dbce77-e8b5-43f4-ac59-4d53f1cd2b00"
      },
      "execution_count": null,
      "outputs": [
        {
          "output_type": "stream",
          "name": "stdout",
          "text": [
            "Precision score: 0.75827688066049\n",
            "Recall score: 0.7593000000000001\n",
            "F1 score: 0.7579184842435938\n"
          ]
        }
      ]
    },
    {
      "cell_type": "code",
      "source": [
        "model_cnn_distillated_35 = CNN(32).to(device)\n",
        "train_l, test_l = train(model_cnn_distillated_35, epochs=8, a_kd=0.35)"
      ],
      "metadata": {
        "colab": {
          "base_uri": "https://localhost:8080/"
        },
        "id": "Pvz1iLRzmQxy",
        "outputId": "5461a754-bf8b-4e7f-d56b-b005b563b3f3"
      },
      "execution_count": null,
      "outputs": [
        {
          "output_type": "stream",
          "name": "stderr",
          "text": [
            "/usr/local/lib/python3.7/dist-packages/torch/nn/functional.py:2887: UserWarning: reduction: 'mean' divides the total loss by both the batch size and the support size.'batchmean' divides only by the batch size, and aligns with the KL div math definition.'mean' will be changed to behave the same as 'batchmean' in the next major release.\n",
            "  \"reduction: 'mean' divides the total loss by both the batch size and the support size.\"\n"
          ]
        },
        {
          "output_type": "stream",
          "name": "stdout",
          "text": [
            "Epoch 0 | Train loss 0.8266614588356018 | Test loss 0.6409145453453063\n",
            "Epoch 1 | Train loss 0.5540500961494446 | Test loss 0.5445075721740723\n",
            "Epoch 2 | Train loss 0.44561714522361756 | Test loss 0.5056080760002136\n",
            "Epoch 3 | Train loss 0.3603413994026184 | Test loss 0.49639744901657107\n",
            "Epoch 4 | Train loss 0.29615399843215945 | Test loss 0.4915713026046753\n",
            "Epoch 5 | Train loss 0.23788207293510438 | Test loss 0.4962970295906067\n",
            "Epoch 6 | Train loss 0.18932604990005494 | Test loss 0.5162469522476196\n",
            "Epoch 7 | Train loss 0.14879248366355896 | Test loss 0.5396878715515137\n"
          ]
        }
      ]
    },
    {
      "cell_type": "code",
      "source": [
        "show_plot(train_l, test_l, \"CNN with ResNet with a_kd = 0.35\")"
      ],
      "metadata": {
        "colab": {
          "base_uri": "https://localhost:8080/",
          "height": 441
        },
        "id": "RMD3en9foF3Z",
        "outputId": "6941c996-f262-462c-bfa7-38a5eb7710ca"
      },
      "execution_count": null,
      "outputs": [
        {
          "output_type": "display_data",
          "data": {
            "text/plain": [
              "<Figure size 864x432 with 1 Axes>"
            ],
            "image/png": "[encoded data removed]"
          },
          "metadata": {
            "needs_background": "light"
          }
        }
      ]
    },
    {
      "cell_type": "code",
      "source": [
        "calc_metrics(model_cnn_distillated_35)"
      ],
      "metadata": {
        "colab": {
          "base_uri": "https://localhost:8080/"
        },
        "id": "uq9FL4kSoOXp",
        "outputId": "ba30be88-f0c6-4113-a598-6133ff1e9157"
      },
      "execution_count": null,
      "outputs": [
        {
          "output_type": "stream",
          "name": "stdout",
          "text": [
            "Precision score: 0.7547465195208721\n",
            "Recall score: 0.7561\n",
            "F1 score: 0.7552357816774281\n"
          ]
        }
      ]
    },
    {
      "cell_type": "code",
      "source": [
        "model_cnn_distillated_05 = CNN(32).to(device)\n",
        "train_l, test_l = train(model_cnn_distillated_05, epochs=5, a_kd=0.05)"
      ],
      "metadata": {
        "colab": {
          "base_uri": "https://localhost:8080/"
        },
        "id": "_5X1ZKFsrm9a",
        "outputId": "93ee1f68-8dd1-4219-9fa0-7e7aa0c96c3b"
      },
      "execution_count": null,
      "outputs": [
        {
          "output_type": "stream",
          "name": "stderr",
          "text": [
            "/usr/local/lib/python3.7/dist-packages/torch/nn/functional.py:2887: UserWarning: reduction: 'mean' divides the total loss by both the batch size and the support size.'batchmean' divides only by the batch size, and aligns with the KL div math definition.'mean' will be changed to behave the same as 'batchmean' in the next major release.\n",
            "  \"reduction: 'mean' divides the total loss by both the batch size and the support size.\"\n"
          ]
        },
        {
          "output_type": "stream",
          "name": "stdout",
          "text": [
            "Epoch 0 | Train loss 1.1622071011924744 | Test loss 0.8977819164276123\n",
            "Epoch 1 | Train loss 0.7728341700172424 | Test loss 0.770656164932251\n",
            "Epoch 2 | Train loss 0.6170721346855164 | Test loss 0.7131345410346985\n",
            "Epoch 3 | Train loss 0.5050782912445069 | Test loss 0.697894810962677\n",
            "Epoch 4 | Train loss 0.40769917759895324 | Test loss 0.6934109994888306\n"
          ]
        }
      ]
    },
    {
      "cell_type": "code",
      "source": [
        "show_plot(train_l, test_l, \"CNN with ResNet with a_kd = 0.05\")"
      ],
      "metadata": {
        "colab": {
          "base_uri": "https://localhost:8080/",
          "height": 441
        },
        "id": "VCcwRcKSrnc1",
        "outputId": "3e775956-52b1-426b-8a84-58e57dcdb017"
      },
      "execution_count": null,
      "outputs": [
        {
          "output_type": "display_data",
          "data": {
            "text/plain": [
              "<Figure size 864x432 with 1 Axes>"
            ],
            "image/png": "[encoded data removed]"
          },
          "metadata": {
            "needs_background": "light"
          }
        }
      ]
    },
    {
      "cell_type": "code",
      "source": [
        "calc_metrics(model_cnn_distillated_05)"
      ],
      "metadata": {
        "colab": {
          "base_uri": "https://localhost:8080/"
        },
        "id": "gbQDGfqxrpEU",
        "outputId": "0d048d84-2794-4f2d-f8c1-52b3bcff7bf2"
      },
      "execution_count": null,
      "outputs": [
        {
          "output_type": "stream",
          "name": "stdout",
          "text": [
            "Precision score: 0.7505642292533563\n",
            "Recall score: 0.751\n",
            "F1 score: 0.7502687011079311\n"
          ]
        }
      ]
    },
    {
      "cell_type": "code",
      "source": [
        "model_cnn_distillated_0 = CNN(32).to(device)\n",
        "train_l, test_l = train(model_cnn_distillated_0, epochs=7, a_kd=0.0)"
      ],
      "metadata": {
        "colab": {
          "base_uri": "https://localhost:8080/"
        },
        "id": "K1SidA1DrfkE",
        "outputId": "b5995d05-3257-4ea0-deaf-bf7a4d834901"
      },
      "execution_count": null,
      "outputs": [
        {
          "output_type": "stream",
          "name": "stderr",
          "text": [
            "/usr/local/lib/python3.7/dist-packages/torch/nn/functional.py:2887: UserWarning: reduction: 'mean' divides the total loss by both the batch size and the support size.'batchmean' divides only by the batch size, and aligns with the KL div math definition.'mean' will be changed to behave the same as 'batchmean' in the next major release.\n",
            "  \"reduction: 'mean' divides the total loss by both the batch size and the support size.\"\n"
          ]
        },
        {
          "output_type": "stream",
          "name": "stdout",
          "text": [
            "Epoch 0 | Train loss 1.2573355932617187 | Test loss 0.963718132019043\n",
            "Epoch 1 | Train loss 0.8265612333488465 | Test loss 0.809022774219513\n",
            "Epoch 2 | Train loss 0.6657109172058105 | Test loss 0.7526410425186157\n",
            "Epoch 3 | Train loss 0.5474813084602356 | Test loss 0.7152568906784058\n",
            "Epoch 4 | Train loss 0.4452124604225159 | Test loss 0.7179241024971008\n",
            "Epoch 5 | Train loss 0.35568619052886963 | Test loss 0.7362859698295593\n",
            "Epoch 6 | Train loss 0.2803886719894409 | Test loss 0.7780546670913696\n"
          ]
        }
      ]
    },
    {
      "cell_type": "code",
      "source": [
        "calc_metrics(model_cnn_distillated_0)"
      ],
      "metadata": {
        "colab": {
          "base_uri": "https://localhost:8080/"
        },
        "id": "n0g841IwA50d",
        "outputId": "64560125-f831-476a-ae96-4f2ff22aa30e"
      },
      "execution_count": null,
      "outputs": [
        {
          "output_type": "stream",
          "name": "stdout",
          "text": [
            "Precision score: 0.7512610125796918\n",
            "Recall score: 0.7507\n",
            "F1 score: 0.7504148594163875\n"
          ]
        }
      ]
    },
    {
      "cell_type": "code",
      "source": [
        "# pretrained model from https://github.com/chenyaofo/pytorch-cifar-models\n",
        "model_resnet_pretrained = torch.hub.load(\"chenyaofo/pytorch-cifar-models\", \"cifar10_resnet56\", pretrained=True)"
      ],
      "metadata": {
        "colab": {
          "base_uri": "https://localhost:8080/"
        },
        "id": "2JtrjyLDA6LD",
        "outputId": "78f30482-6236-4d6c-f4e6-8897c770c662"
      },
      "execution_count": null,
      "outputs": [
        {
          "output_type": "stream",
          "name": "stderr",
          "text": [
            "Using cache found in /root/.cache/torch/hub/chenyaofo_pytorch-cifar-models_master\n"
          ]
        }
      ]
    },
    {
      "cell_type": "code",
      "source": [
        "model_resnet_pretrained = model_resnet_pretrained.to(device)"
      ],
      "metadata": {
        "id": "AlQXXkxwCl7K"
      },
      "execution_count": null,
      "outputs": []
    },
    {
      "cell_type": "code",
      "source": [
        "model_cnn_distillated_with_big_teacher = CNN(32).to(device)\n",
        "train_l, test_l = train(model_cnn_distillated_with_big_teacher, epochs=5, a_kd=0.5)"
      ],
      "metadata": {
        "colab": {
          "base_uri": "https://localhost:8080/"
        },
        "id": "E_neFqJaB7GE",
        "outputId": "9dfd38ff-0e8c-46c9-9a12-9344251f8373"
      },
      "execution_count": null,
      "outputs": [
        {
          "output_type": "stream",
          "name": "stderr",
          "text": [
            "/usr/local/lib/python3.7/dist-packages/torch/nn/functional.py:2887: UserWarning: reduction: 'mean' divides the total loss by both the batch size and the support size.'batchmean' divides only by the batch size, and aligns with the KL div math definition.'mean' will be changed to behave the same as 'batchmean' in the next major release.\n",
            "  \"reduction: 'mean' divides the total loss by both the batch size and the support size.\"\n"
          ]
        },
        {
          "output_type": "stream",
          "name": "stdout",
          "text": [
            "Epoch 0 | Train loss 0.6791844213676452 | Test loss 0.5216572574615479\n",
            "Epoch 1 | Train loss 0.45144612419128416 | Test loss 0.44420458393096923\n",
            "Epoch 2 | Train loss 0.3620466478538513 | Test loss 0.41169017558097837\n",
            "Epoch 3 | Train loss 0.29728938577651975 | Test loss 0.39662745623588563\n",
            "Epoch 4 | Train loss 0.24578083671092987 | Test loss 0.4026817295074463\n"
          ]
        }
      ]
    },
    {
      "cell_type": "code",
      "source": [
        "calc_metrics(model_cnn_distillated_with_big_teacher)"
      ],
      "metadata": {
        "colab": {
          "base_uri": "https://localhost:8080/"
        },
        "id": "6Q1YM8RkA6Uc",
        "outputId": "391f105c-1c33-404d-ace5-52c706b39f65"
      },
      "execution_count": null,
      "outputs": [
        {
          "output_type": "stream",
          "name": "stdout",
          "text": [
            "Precision score: 0.7508255251733995\n",
            "Recall score: 0.7501\n",
            "F1 score: 0.7499017705410982\n"
          ]
        }
      ]
    }
  ]
}